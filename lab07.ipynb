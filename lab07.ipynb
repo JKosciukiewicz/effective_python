{
 "cells": [
  {
   "cell_type": "markdown",
   "metadata": {},
   "source": [
    "# Lab 07"
   ]
  },
  {
   "cell_type": "markdown",
   "metadata": {},
   "source": [
    "## Zadanie 1"
   ]
  },
  {
   "cell_type": "markdown",
   "metadata": {},
   "source": [
    "Przygotuj demo programu znajdującego miejsca zerowe metodą Newtona. Wykorzystując `argparse` ([link](https://docs.python.org/3.6/library/argparse.html#module-argparse)) lub `optparse` ([link](https://docs.python.org/3.6/library/optparse.html)) obsłuż:\n",
    "- ustalane punktu startowego,\n",
    "- wielkość kroku w pochodnej,\n",
    "- ilość kroków metody,\n",
    "- dokładność\n",
    "- pomoc\n",
    "\n",
    "Program uruchamiamy podając, np.:"
   ]
  },
  {
   "cell_type": "markdown",
   "metadata": {},
   "source": [
    "`./newton.py x**2+x+1 -h 0.00001`"
   ]
  },
  {
   "cell_type": "markdown",
   "metadata": {},
   "source": [
    "## Zadanie 2"
   ]
  },
  {
   "cell_type": "markdown",
   "metadata": {},
   "source": [
    "Zadanie należy wykonać wykorzystując program `BagOfWords` z poprzednich zajęć.\n",
    "\n",
    "\n",
    "Przerób ją tak, żeby interpunkcja, cyfry i wszelkie inne znaki nie przeszkadzały w parsowaniu tekstu. Uruchom ja na [tekście hamleta](http://www.gutenberg.org/cache/epub/1787/pg1787.txt). Ile razy występuje słowo hamlet? Jak brzmi 10 najczęściej występujących słów?"
   ]
  },
  {
   "cell_type": "code",
   "execution_count": 65,
   "metadata": {},
   "outputs": [
    {
     "name": "stdout",
     "output_type": "stream",
     "text": [
      "ala\n"
     ]
    },
    {
     "ename": "KeyError",
     "evalue": "'ala'",
     "output_type": "error",
     "traceback": [
      "\u001b[0;31m---------------------------------------------------------------------------\u001b[0m",
      "\u001b[0;31mKeyError\u001b[0m                                  Traceback (most recent call last)",
      "\u001b[1;32m/Users/jkosciukiewicz/Developer/UJ/Python/Wykłady/effective_python/lab07.ipynb Cell 7\u001b[0m line \u001b[0;36m7\n\u001b[1;32m     <a href='vscode-notebook-cell:/Users/jkosciukiewicz/Developer/UJ/Python/Wyk%C5%82ady/effective_python/lab07.ipynb#X15sZmlsZQ%3D%3D?line=59'>60</a>\u001b[0m testjson\u001b[39m=\u001b[39mjson\u001b[39m.\u001b[39mdumps(\n\u001b[1;32m     <a href='vscode-notebook-cell:/Users/jkosciukiewicz/Developer/UJ/Python/Wyk%C5%82ady/effective_python/lab07.ipynb#X15sZmlsZQ%3D%3D?line=60'>61</a>\u001b[0m     {\n\u001b[1;32m     <a href='vscode-notebook-cell:/Users/jkosciukiewicz/Developer/UJ/Python/Wyk%C5%82ady/effective_python/lab07.ipynb#X15sZmlsZQ%3D%3D?line=61'>62</a>\u001b[0m         \u001b[39m'\u001b[39m\u001b[39mala\u001b[39m\u001b[39m'\u001b[39m:\u001b[39m3\u001b[39m,\n\u001b[0;32m   (...)\u001b[0m\n\u001b[1;32m     <a href='vscode-notebook-cell:/Users/jkosciukiewicz/Developer/UJ/Python/Wyk%C5%82ady/effective_python/lab07.ipynb#X15sZmlsZQ%3D%3D?line=66'>67</a>\u001b[0m     }\n\u001b[1;32m     <a href='vscode-notebook-cell:/Users/jkosciukiewicz/Developer/UJ/Python/Wyk%C5%82ady/effective_python/lab07.ipynb#X15sZmlsZQ%3D%3D?line=67'>68</a>\u001b[0m )\n\u001b[1;32m     <a href='vscode-notebook-cell:/Users/jkosciukiewicz/Developer/UJ/Python/Wyk%C5%82ady/effective_python/lab07.ipynb#X15sZmlsZQ%3D%3D?line=68'>69</a>\u001b[0m bow_json\u001b[39m=\u001b[39mBagOfWords()\n\u001b[0;32m---> <a href='vscode-notebook-cell:/Users/jkosciukiewicz/Developer/UJ/Python/Wyk%C5%82ady/effective_python/lab07.ipynb#X15sZmlsZQ%3D%3D?line=69'>70</a>\u001b[0m bow_json\u001b[39m.\u001b[39;49mload(testjson)\n",
      "\u001b[1;32m/Users/jkosciukiewicz/Developer/UJ/Python/Wykłady/effective_python/lab07.ipynb Cell 7\u001b[0m line \u001b[0;36m5\n\u001b[1;32m     <a href='vscode-notebook-cell:/Users/jkosciukiewicz/Developer/UJ/Python/Wyk%C5%82ady/effective_python/lab07.ipynb#X15sZmlsZQ%3D%3D?line=51'>52</a>\u001b[0m \u001b[39mfor\u001b[39;00m word \u001b[39min\u001b[39;00m json_dict\u001b[39m.\u001b[39mitems():\n\u001b[1;32m     <a href='vscode-notebook-cell:/Users/jkosciukiewicz/Developer/UJ/Python/Wyk%C5%82ady/effective_python/lab07.ipynb#X15sZmlsZQ%3D%3D?line=52'>53</a>\u001b[0m     \u001b[39mprint\u001b[39m(word[\u001b[39m0\u001b[39m])\n\u001b[0;32m---> <a href='vscode-notebook-cell:/Users/jkosciukiewicz/Developer/UJ/Python/Wyk%C5%82ady/effective_python/lab07.ipynb#X15sZmlsZQ%3D%3D?line=53'>54</a>\u001b[0m     \u001b[39mself\u001b[39;49m\u001b[39m.\u001b[39;49mwords[\u001b[39mstr\u001b[39;49m(word[\u001b[39m0\u001b[39;49m])] \u001b[39m+\u001b[39m\u001b[39m=\u001b[39m word[\u001b[39m1\u001b[39m]\n",
      "\u001b[0;31mKeyError\u001b[0m: 'ala'"
     ]
    }
   ],
   "source": [
    "from collections import Counter, defaultdict\n",
    "import re,json\n",
    "\n",
    "class BagOfWords(object):\n",
    "    def __init__(self, text=None):\n",
    "        if text:\n",
    "            if type(text)==str:\n",
    "                text_words = text.lower()\n",
    "            else:\n",
    "                text_words=text.read().lower()\n",
    "                text.close()\n",
    "            #regex\n",
    "            print(text_words)\n",
    "            self.words=defaultdict(int)\n",
    "            for word in text_words:\n",
    "                if word:\n",
    "                    self.words[word]+=1\n",
    "\n",
    "            self.words = dict(sorted(self.words.items(), key=lambda item: item[1], reverse=True))\n",
    "        else:\n",
    "            self.words={}\n",
    "\n",
    "    def __contains__(self, word):\n",
    "        return word in self.words\n",
    "\n",
    "    def __add__(self, other):\n",
    "        new_bow = BagOfWords('')\n",
    "        new_bow.words = self.words.copy()  # Create a copy of the current words\n",
    "        for word, count in other.words.items():\n",
    "            if word in new_bow.words:\n",
    "                new_bow.words[word] += count\n",
    "            else:\n",
    "                new_bow.words[word] = count\n",
    "        new_bow.words = dict(sorted(new_bow.words.items(), key=lambda item: item[1], reverse=True))\n",
    "        return new_bow\n",
    "\n",
    "    def __str__(self):\n",
    "        return ', '.join([f'{word}:{self.words[word]}' for word in self.words])\n",
    "\n",
    "    def __getitem__(self, word):\n",
    "        return self.words[word]\n",
    "\n",
    "    def __setitem__(self, word, count):\n",
    "        self.words[word] = count\n",
    "        self.words = dict(sorted(self.words.items(), key=lambda item: item[1], reverse=True))\n",
    "\n",
    "    def __iter__(self):\n",
    "        return iter(self.words)\n",
    "    \n",
    "    def load(self,json_text):\n",
    "        json_dict=json.loads(json_text)\n",
    "        for word in json_dict.items():\n",
    "            print(word[0])\n",
    "            self.words[word[0]] += word[1]\n",
    "        #self.words = dict(sorted(self.words.items(), key=lambda item: item[1], reverse=True))\n",
    "\n",
    "    def save(self):\n",
    "        return json.dumps(self.words)\n",
    "    \n",
    "testjson=json.dumps(\n",
    "    {\n",
    "        'ala':3,\n",
    "        'ma':3,\n",
    "        'kota':2,\n",
    "        'tomek':1,\n",
    "        'tez':1\n",
    "    }\n",
    ")\n",
    "bow_json=BagOfWords()\n",
    "bow_json.load(testjson)\n",
    "    "
   ]
  },
  {
   "cell_type": "markdown",
   "metadata": {},
   "source": [
    "## Zadanie 3"
   ]
  },
  {
   "cell_type": "markdown",
   "metadata": {},
   "source": [
    "Wykorzystując `pickle` zapisz i odczytaj klasy z poprzedniego zadania nakarmonej Hamletem. Porównaj metody i rozmiar."
   ]
  },
  {
   "cell_type": "markdown",
   "metadata": {},
   "source": [
    "## Zadanie 4"
   ]
  },
  {
   "cell_type": "markdown",
   "metadata": {},
   "source": [
    "Wykorzystując [https://gist.github.com/pamelafox/986163](https://gist.github.com/pamelafox/986163) podaj aktualną godzinę we:\n",
    "- wszystkich krajach, wyświetlając je zgrupowane względem kontynentów,\n",
    "- przeprowadź symulacyjne wyświetlanie kolejnych krajów w miarę jak w danym kraju wybija północ, opóżnienie wyświetlania ustaw proporcjonalne do realnego czasu"
   ]
  },
  {
   "cell_type": "markdown",
   "metadata": {},
   "source": [
    "## Zadanie 5"
   ]
  },
  {
   "cell_type": "markdown",
   "metadata": {},
   "source": [
    "Dla klasy `BagOfWords` napisz metody `save` oraz `load` wykorzystujące `json`'a do zapisu i odczytu danych."
   ]
  }
 ],
 "metadata": {
  "kernelspec": {
   "display_name": "Python 3",
   "language": "python",
   "name": "python3"
  },
  "language_info": {
   "codemirror_mode": {
    "name": "ipython",
    "version": 3
   },
   "file_extension": ".py",
   "mimetype": "text/x-python",
   "name": "python",
   "nbconvert_exporter": "python",
   "pygments_lexer": "ipython3",
   "version": "3.11.4"
  }
 },
 "nbformat": 4,
 "nbformat_minor": 2
}
